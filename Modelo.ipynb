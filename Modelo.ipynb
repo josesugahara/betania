{
 "cells": [
  {
   "cell_type": "code",
   "execution_count": null,
   "metadata": {},
   "outputs": [],
   "source": [
    "#!/usr/bin/env python\n",
    "# coding: utf-8"
   ]
  },
  {
   "cell_type": "markdown",
   "metadata": {},
   "source": [
    "In[50]:"
   ]
  },
  {
   "cell_type": "code",
   "execution_count": 1,
   "metadata": {},
   "outputs": [],
   "source": [
    "import numpy as np\n",
    "import pandas as pd"
   ]
  },
  {
   "cell_type": "markdown",
   "metadata": {},
   "source": [
    "In[51]:"
   ]
  },
  {
   "cell_type": "code",
   "execution_count": 2,
   "metadata": {},
   "outputs": [],
   "source": [
    "excelFile = pd.read_excel('treino.xlsx')\n",
    "excelFile.to_csv (\"treino.csv\", index = None, header=True)\n",
    "excelFile = pd.read_excel('teste.xlsx')\n",
    "excelFile.to_csv (\"teste.csv\", index = None, header=True)"
   ]
  },
  {
   "cell_type": "markdown",
   "metadata": {},
   "source": [
    "In[82]:"
   ]
  },
  {
   "cell_type": "code",
   "execution_count": 3,
   "metadata": {},
   "outputs": [],
   "source": [
    "df_train = pd.read_csv('treino.csv')\n",
    "df_test = pd.read_csv('teste.csv')"
   ]
  },
  {
   "cell_type": "markdown",
   "metadata": {},
   "source": [
    "In[53]:"
   ]
  },
  {
   "cell_type": "code",
   "execution_count": 4,
   "metadata": {},
   "outputs": [
    {
     "data": {
      "text/html": [
       "<div>\n",
       "<style scoped>\n",
       "    .dataframe tbody tr th:only-of-type {\n",
       "        vertical-align: middle;\n",
       "    }\n",
       "\n",
       "    .dataframe tbody tr th {\n",
       "        vertical-align: top;\n",
       "    }\n",
       "\n",
       "    .dataframe thead th {\n",
       "        text-align: right;\n",
       "    }\n",
       "</style>\n",
       "<table border=\"1\" class=\"dataframe\">\n",
       "  <thead>\n",
       "    <tr style=\"text-align: right;\">\n",
       "      <th></th>\n",
       "      <th>Nome</th>\n",
       "      <th>EMBALAGEM</th>\n",
       "    </tr>\n",
       "  </thead>\n",
       "  <tbody>\n",
       "    <tr>\n",
       "      <th>0</th>\n",
       "      <td>C. LEITE ITALAC 1KG Creme de Leite</td>\n",
       "      <td>Caixa</td>\n",
       "    </tr>\n",
       "    <tr>\n",
       "      <th>1</th>\n",
       "      <td>C. LEITE NILZA TP 200G Creme de Leite</td>\n",
       "      <td>Caixa</td>\n",
       "    </tr>\n",
       "    <tr>\n",
       "      <th>2</th>\n",
       "      <td>C. LEITE TALAC ZERO LACTOSE 200G Creme de Leite</td>\n",
       "      <td>Caixa</td>\n",
       "    </tr>\n",
       "    <tr>\n",
       "      <th>3</th>\n",
       "      <td>CR DE LEITE ITALAC 200G TP Creme de Leite</td>\n",
       "      <td>Caixa</td>\n",
       "    </tr>\n",
       "    <tr>\n",
       "      <th>4</th>\n",
       "      <td>CR DE LEITE ITALAC 200G TP Creme de Leite</td>\n",
       "      <td>Caixa</td>\n",
       "    </tr>\n",
       "  </tbody>\n",
       "</table>\n",
       "</div>"
      ],
      "text/plain": [
       "                                              Nome EMBALAGEM\n",
       "0               C. LEITE ITALAC 1KG Creme de Leite     Caixa\n",
       "1            C. LEITE NILZA TP 200G Creme de Leite     Caixa\n",
       "2  C. LEITE TALAC ZERO LACTOSE 200G Creme de Leite     Caixa\n",
       "3        CR DE LEITE ITALAC 200G TP Creme de Leite     Caixa\n",
       "4        CR DE LEITE ITALAC 200G TP Creme de Leite     Caixa"
      ]
     },
     "execution_count": 4,
     "metadata": {},
     "output_type": "execute_result"
    }
   ],
   "source": [
    "df_train.head()"
   ]
  },
  {
   "cell_type": "markdown",
   "metadata": {},
   "source": [
    "In[54]:"
   ]
  },
  {
   "cell_type": "code",
   "execution_count": 5,
   "metadata": {},
   "outputs": [
    {
     "data": {
      "text/html": [
       "<div>\n",
       "<style scoped>\n",
       "    .dataframe tbody tr th:only-of-type {\n",
       "        vertical-align: middle;\n",
       "    }\n",
       "\n",
       "    .dataframe tbody tr th {\n",
       "        vertical-align: top;\n",
       "    }\n",
       "\n",
       "    .dataframe thead th {\n",
       "        text-align: right;\n",
       "    }\n",
       "</style>\n",
       "<table border=\"1\" class=\"dataframe\">\n",
       "  <thead>\n",
       "    <tr style=\"text-align: right;\">\n",
       "      <th></th>\n",
       "      <th>Nome</th>\n",
       "      <th>EMBALAGEM</th>\n",
       "    </tr>\n",
       "  </thead>\n",
       "  <tbody>\n",
       "    <tr>\n",
       "      <th>0</th>\n",
       "      <td>IOG CORPUS LIGHT CEREAIS FRUTAS     480G Iogurtes</td>\n",
       "      <td>NaN</td>\n",
       "    </tr>\n",
       "    <tr>\n",
       "      <th>1</th>\n",
       "      <td>IOG CORPUS PEDACO ABACAXI 200G Iogurtes</td>\n",
       "      <td>NaN</td>\n",
       "    </tr>\n",
       "    <tr>\n",
       "      <th>2</th>\n",
       "      <td>IOG DANONE LIQ 170G VIT DE FRUTAS Iogurtes</td>\n",
       "      <td>NaN</td>\n",
       "    </tr>\n",
       "    <tr>\n",
       "      <th>3</th>\n",
       "      <td>LTE FERM ACT LIQ JABUTICABA 170G Iogurtes</td>\n",
       "      <td>NaN</td>\n",
       "    </tr>\n",
       "    <tr>\n",
       "      <th>4</th>\n",
       "      <td>LTE FERM ACT S LAC MOR/BAN 850G Iogurtes</td>\n",
       "      <td>NaN</td>\n",
       "    </tr>\n",
       "  </tbody>\n",
       "</table>\n",
       "</div>"
      ],
      "text/plain": [
       "                                                Nome  EMBALAGEM\n",
       "0  IOG CORPUS LIGHT CEREAIS FRUTAS     480G Iogurtes        NaN\n",
       "1            IOG CORPUS PEDACO ABACAXI 200G Iogurtes        NaN\n",
       "2         IOG DANONE LIQ 170G VIT DE FRUTAS Iogurtes        NaN\n",
       "3          LTE FERM ACT LIQ JABUTICABA 170G Iogurtes        NaN\n",
       "4           LTE FERM ACT S LAC MOR/BAN 850G Iogurtes        NaN"
      ]
     },
     "execution_count": 5,
     "metadata": {},
     "output_type": "execute_result"
    }
   ],
   "source": [
    "df_test.head()"
   ]
  },
  {
   "cell_type": "markdown",
   "metadata": {},
   "source": [
    "In[55]:"
   ]
  },
  {
   "cell_type": "code",
   "execution_count": 6,
   "metadata": {},
   "outputs": [
    {
     "data": {
      "text/plain": [
       "Nome         0\n",
       "EMBALAGEM    0\n",
       "dtype: int64"
      ]
     },
     "execution_count": 6,
     "metadata": {},
     "output_type": "execute_result"
    }
   ],
   "source": [
    "df_train.isnull().sum().sort_values(ascending=False)"
   ]
  },
  {
   "cell_type": "markdown",
   "metadata": {},
   "source": [
    "In[56]:"
   ]
  },
  {
   "cell_type": "code",
   "execution_count": 7,
   "metadata": {},
   "outputs": [
    {
     "data": {
      "text/plain": [
       "EMBALAGEM    1008\n",
       "Nome            0\n",
       "dtype: int64"
      ]
     },
     "execution_count": 7,
     "metadata": {},
     "output_type": "execute_result"
    }
   ],
   "source": [
    "df_test.isnull().sum().sort_values(ascending=False)"
   ]
  },
  {
   "cell_type": "markdown",
   "metadata": {},
   "source": [
    "In[57]:"
   ]
  },
  {
   "cell_type": "code",
   "execution_count": 8,
   "metadata": {},
   "outputs": [],
   "source": [
    "#df_test.dropna(inplace=True)"
   ]
  },
  {
   "cell_type": "markdown",
   "metadata": {},
   "source": [
    "In[58]:"
   ]
  },
  {
   "cell_type": "code",
   "execution_count": 9,
   "metadata": {},
   "outputs": [
    {
     "data": {
      "text/html": [
       "<div>\n",
       "<style scoped>\n",
       "    .dataframe tbody tr th:only-of-type {\n",
       "        vertical-align: middle;\n",
       "    }\n",
       "\n",
       "    .dataframe tbody tr th {\n",
       "        vertical-align: top;\n",
       "    }\n",
       "\n",
       "    .dataframe thead th {\n",
       "        text-align: right;\n",
       "    }\n",
       "</style>\n",
       "<table border=\"1\" class=\"dataframe\">\n",
       "  <thead>\n",
       "    <tr style=\"text-align: right;\">\n",
       "      <th></th>\n",
       "      <th>Nome</th>\n",
       "      <th>EMBALAGEM</th>\n",
       "    </tr>\n",
       "  </thead>\n",
       "  <tbody>\n",
       "    <tr>\n",
       "      <th>0</th>\n",
       "      <td>IOG CORPUS LIGHT CEREAIS FRUTAS     480G Iogurtes</td>\n",
       "      <td>NaN</td>\n",
       "    </tr>\n",
       "    <tr>\n",
       "      <th>1</th>\n",
       "      <td>IOG CORPUS PEDACO ABACAXI 200G Iogurtes</td>\n",
       "      <td>NaN</td>\n",
       "    </tr>\n",
       "    <tr>\n",
       "      <th>2</th>\n",
       "      <td>IOG DANONE LIQ 170G VIT DE FRUTAS Iogurtes</td>\n",
       "      <td>NaN</td>\n",
       "    </tr>\n",
       "    <tr>\n",
       "      <th>3</th>\n",
       "      <td>LTE FERM ACT LIQ JABUTICABA 170G Iogurtes</td>\n",
       "      <td>NaN</td>\n",
       "    </tr>\n",
       "    <tr>\n",
       "      <th>4</th>\n",
       "      <td>LTE FERM ACT S LAC MOR/BAN 850G Iogurtes</td>\n",
       "      <td>NaN</td>\n",
       "    </tr>\n",
       "  </tbody>\n",
       "</table>\n",
       "</div>"
      ],
      "text/plain": [
       "                                                Nome  EMBALAGEM\n",
       "0  IOG CORPUS LIGHT CEREAIS FRUTAS     480G Iogurtes        NaN\n",
       "1            IOG CORPUS PEDACO ABACAXI 200G Iogurtes        NaN\n",
       "2         IOG DANONE LIQ 170G VIT DE FRUTAS Iogurtes        NaN\n",
       "3          LTE FERM ACT LIQ JABUTICABA 170G Iogurtes        NaN\n",
       "4           LTE FERM ACT S LAC MOR/BAN 850G Iogurtes        NaN"
      ]
     },
     "execution_count": 9,
     "metadata": {},
     "output_type": "execute_result"
    }
   ],
   "source": [
    "df_test.head()"
   ]
  },
  {
   "cell_type": "markdown",
   "metadata": {},
   "source": [
    "In[59]:"
   ]
  },
  {
   "cell_type": "code",
   "execution_count": 10,
   "metadata": {},
   "outputs": [
    {
     "data": {
      "text/plain": [
       "Caixa        462\n",
       "Garrafa      374\n",
       "SACHET       256\n",
       "Bandeja      211\n",
       "Copo         185\n",
       "POTE         114\n",
       "caixa         67\n",
       "TETRA PAK     58\n",
       "Pote          53\n",
       "BISNAGA       39\n",
       "LATA          21\n",
       "Lata          20\n",
       "lata          12\n",
       "copo           3\n",
       "Pouch          3\n",
       "garrafa        2\n",
       "Balde          2\n",
       "BALDE          2\n",
       "Stick          1\n",
       "Name: EMBALAGEM, dtype: int64"
      ]
     },
     "execution_count": 10,
     "metadata": {},
     "output_type": "execute_result"
    }
   ],
   "source": [
    "df_train['EMBALAGEM'].value_counts()"
   ]
  },
  {
   "cell_type": "markdown",
   "metadata": {},
   "source": [
    "In[83]:"
   ]
  },
  {
   "cell_type": "markdown",
   "metadata": {},
   "source": [
    " from sklearn.model_selection import train_test_split<br>\n",
    " X_train, X_test, y_train, y_test = train_test_split(df['Nome SKU'], df['SABOR'], random_state=50)"
   ]
  },
  {
   "cell_type": "code",
   "execution_count": 11,
   "metadata": {},
   "outputs": [],
   "source": [
    "X_train = df_train['Nome']\n",
    "y_train = df_train['EMBALAGEM']\n",
    "X_test = df_test['Nome']\n",
    "y_test = df_test['EMBALAGEM']"
   ]
  },
  {
   "cell_type": "markdown",
   "metadata": {},
   "source": [
    "In[84]:"
   ]
  },
  {
   "cell_type": "code",
   "execution_count": 12,
   "metadata": {},
   "outputs": [
    {
     "name": "stdout",
     "output_type": "stream",
     "text": [
      "0       IOG CORPUS LIGHT CEREAIS FRUTAS     480G Iogurtes\n",
      "1                 IOG CORPUS PEDACO ABACAXI 200G Iogurtes\n",
      "2              IOG DANONE LIQ 170G VIT DE FRUTAS Iogurtes\n",
      "3               LTE FERM ACT LIQ JABUTICABA 170G Iogurtes\n",
      "4                LTE FERM ACT S LAC MOR/BAN 850G Iogurtes\n",
      "                              ...                        \n",
      "1003             ISIS BEBIDA LACTEA MORANGO 120G Iogurtes\n",
      "1004     ISIS BEBIDA LACTEA SALADA DE FRUTAS 1KG Iogurtes\n",
      "1005         ISIS IOG GARRAFA BANANA E MACA 900G Iogurtes\n",
      "1006               ISIS IOG GARRAFA MORANGO 900G Iogurtes\n",
      "1007                        MORANGO BANDEJA 250G Iogurtes\n",
      "Name: Nome, Length: 1008, dtype: object\n"
     ]
    }
   ],
   "source": [
    "print(X_test)"
   ]
  },
  {
   "cell_type": "markdown",
   "metadata": {},
   "source": [
    "In[85]:"
   ]
  },
  {
   "cell_type": "code",
   "execution_count": 13,
   "metadata": {},
   "outputs": [
    {
     "name": "stdout",
     "output_type": "stream",
     "text": [
      "0       Caixa\n",
      "1       Caixa\n",
      "2       Caixa\n",
      "3       Caixa\n",
      "4       Caixa\n",
      "        ...  \n",
      "1880     Copo\n",
      "1881     Pote\n",
      "1882     Copo\n",
      "1883     Pote\n",
      "1884     Pote\n",
      "Name: EMBALAGEM, Length: 1885, dtype: object\n"
     ]
    }
   ],
   "source": [
    "print(y_train)"
   ]
  },
  {
   "cell_type": "markdown",
   "metadata": {},
   "source": [
    "In[86]:"
   ]
  },
  {
   "cell_type": "code",
   "execution_count": 14,
   "metadata": {},
   "outputs": [],
   "source": [
    "from sklearn.feature_extraction.text import CountVectorizer\n",
    "vect_train = CountVectorizer(min_df = 3, ngram_range=(1,2)).fit(X_train)"
   ]
  },
  {
   "cell_type": "markdown",
   "metadata": {},
   "source": [
    "In[87]:"
   ]
  },
  {
   "cell_type": "markdown",
   "metadata": {},
   "source": [
    " tamanho da vetorizaÃ§Ã£o"
   ]
  },
  {
   "cell_type": "code",
   "execution_count": 15,
   "metadata": {},
   "outputs": [
    {
     "name": "stderr",
     "output_type": "stream",
     "text": [
      "C:\\Users\\josesugahara\\Anaconda3\\lib\\site-packages\\sklearn\\utils\\deprecation.py:87: FutureWarning: Function get_feature_names is deprecated; get_feature_names is deprecated in 1.0 and will be removed in 1.2. Please use get_feature_names_out instead.\n",
      "  warnings.warn(msg, category=FutureWarning)\n"
     ]
    },
    {
     "data": {
      "text/plain": [
       "1173"
      ]
     },
     "execution_count": 15,
     "metadata": {},
     "output_type": "execute_result"
    }
   ],
   "source": [
    "len(vect_train.get_feature_names())"
   ]
  },
  {
   "cell_type": "markdown",
   "metadata": {},
   "source": [
    "In[88]:"
   ]
  },
  {
   "cell_type": "code",
   "execution_count": 16,
   "metadata": {},
   "outputs": [],
   "source": [
    "X_train_vectorized = vect_train.transform(X_train)"
   ]
  },
  {
   "cell_type": "markdown",
   "metadata": {},
   "source": [
    "In[89]:"
   ]
  },
  {
   "cell_type": "code",
   "execution_count": 17,
   "metadata": {},
   "outputs": [
    {
     "data": {
      "text/plain": [
       "LogisticRegression(solver='liblinear')"
      ]
     },
     "execution_count": 17,
     "metadata": {},
     "output_type": "execute_result"
    }
   ],
   "source": [
    "from sklearn.linear_model import LogisticRegression\n",
    "model = LogisticRegression(solver='liblinear')\n",
    "model.fit(X_train_vectorized, y_train)"
   ]
  },
  {
   "cell_type": "markdown",
   "metadata": {},
   "source": [
    "In[92]:"
   ]
  },
  {
   "cell_type": "markdown",
   "metadata": {},
   "source": [
    "Save Predictions"
   ]
  },
  {
   "cell_type": "code",
   "execution_count": 18,
   "metadata": {},
   "outputs": [],
   "source": [
    "predictions = model.predict(vect_train.transform(df_test['Nome']))\n",
    "series = pd.Series(predictions)"
   ]
  },
  {
   "cell_type": "markdown",
   "metadata": {},
   "source": [
    "In[93]:"
   ]
  },
  {
   "cell_type": "code",
   "execution_count": 19,
   "metadata": {},
   "outputs": [
    {
     "name": "stdout",
     "output_type": "stream",
     "text": [
      "                                                   Nome        0\n",
      "0     IOG CORPUS LIGHT CEREAIS FRUTAS     480G Iogurtes  Bandeja\n",
      "1               IOG CORPUS PEDACO ABACAXI 200G Iogurtes  Garrafa\n",
      "2            IOG DANONE LIQ 170G VIT DE FRUTAS Iogurtes  Garrafa\n",
      "3             LTE FERM ACT LIQ JABUTICABA 170G Iogurtes  Garrafa\n",
      "4              LTE FERM ACT S LAC MOR/BAN 850G Iogurtes  Garrafa\n",
      "...                                                 ...      ...\n",
      "1003           ISIS BEBIDA LACTEA MORANGO 120G Iogurtes   SACHET\n",
      "1004   ISIS BEBIDA LACTEA SALADA DE FRUTAS 1KG Iogurtes  Bandeja\n",
      "1005       ISIS IOG GARRAFA BANANA E MACA 900G Iogurtes  Garrafa\n",
      "1006             ISIS IOG GARRAFA MORANGO 900G Iogurtes  Garrafa\n",
      "1007                      MORANGO BANDEJA 250G Iogurtes  Garrafa\n",
      "\n",
      "[1008 rows x 2 columns]\n"
     ]
    }
   ],
   "source": [
    "teste = pd.concat([X_test, series], axis=1)\n",
    "print(teste)"
   ]
  },
  {
   "cell_type": "markdown",
   "metadata": {},
   "source": [
    "In[94]:"
   ]
  },
  {
   "cell_type": "code",
   "execution_count": 20,
   "metadata": {},
   "outputs": [],
   "source": [
    "teste.to_excel('Resultado.xlsx')"
   ]
  },
  {
   "cell_type": "markdown",
   "metadata": {},
   "source": [
    "In[46]:"
   ]
  },
  {
   "cell_type": "code",
   "execution_count": null,
   "metadata": {},
   "outputs": [],
   "source": [
    "real = pd.concat([X_test.reset_index(), y_test.reset_index(), series], axis=1)\n",
    "real[['Nome','SUBCATEGORIA_LIMPA',0]].to_excel('real.xlsx')"
   ]
  },
  {
   "cell_type": "markdown",
   "metadata": {},
   "source": [
    "In[79]:"
   ]
  },
  {
   "cell_type": "code",
   "execution_count": null,
   "metadata": {},
   "outputs": [],
   "source": [
    "print(df_test)"
   ]
  },
  {
   "cell_type": "markdown",
   "metadata": {},
   "source": [
    "In[56]:"
   ]
  },
  {
   "cell_type": "markdown",
   "metadata": {},
   "source": [
    "In[57]:"
   ]
  },
  {
   "cell_type": "code",
   "execution_count": null,
   "metadata": {},
   "outputs": [],
   "source": [
    "print(y_test)"
   ]
  },
  {
   "cell_type": "markdown",
   "metadata": {},
   "source": [
    "In[76]:"
   ]
  },
  {
   "cell_type": "code",
   "execution_count": null,
   "metadata": {},
   "outputs": [],
   "source": [
    "gabarito = pd.Series(y_test)\n",
    "teste = pd.DataFrame(predictions)\n",
    "frames = [gabarito,teste]\n",
    "results = pd.concat(frames, keys=['gabarito', 'teste'], axis =1)"
   ]
  },
  {
   "cell_type": "markdown",
   "metadata": {},
   "source": [
    "In[54]:"
   ]
  },
  {
   "cell_type": "code",
   "execution_count": null,
   "metadata": {},
   "outputs": [],
   "source": [
    "X_test_vectorized.to_excel('VETOR.xlsx')"
   ]
  },
  {
   "cell_type": "markdown",
   "metadata": {},
   "source": [
    "In[ ]:"
   ]
  }
 ],
 "metadata": {
  "kernelspec": {
   "display_name": "Python 3 (ipykernel)",
   "language": "python",
   "name": "python3"
  },
  "language_info": {
   "codemirror_mode": {
    "name": "ipython",
    "version": 3
   },
   "file_extension": ".py",
   "mimetype": "text/x-python",
   "name": "python",
   "nbconvert_exporter": "python",
   "pygments_lexer": "ipython3",
   "version": "3.9.13"
  }
 },
 "nbformat": 4,
 "nbformat_minor": 2
}
