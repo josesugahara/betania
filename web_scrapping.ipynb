{
 "cells": [
  {
   "cell_type": "code",
   "execution_count": 1,
   "id": "0539ab47",
   "metadata": {},
   "outputs": [],
   "source": [
    "import time\n",
    "from selenium.webdriver.chrome.service import Service\n",
    "import requests\n",
    "from bs4 import BeautifulSoup\n",
    "from selenium import webdriver\n",
    "import csv\n",
    "from pandas import *\n",
    "from selenium.webdriver.common.by import By"
   ]
  },
  {
   "cell_type": "code",
   "execution_count": 2,
   "id": "4bac5aeb",
   "metadata": {},
   "outputs": [],
   "source": [
    "driver = webdriver.Chrome()\n",
    "\n",
    "driver.get('https://cnpj.biz/05318143000160')"
   ]
  },
  {
   "cell_type": "code",
   "execution_count": 3,
   "id": "9e0c3d20",
   "metadata": {},
   "outputs": [],
   "source": [
    "#with open('cnae_cnpj.csv', 'w') as file:\n",
    "#    file.write(\"cnpj;procura \\n\")\n",
    "service = Service(executable_path=\"/usr/local/bin/chromedriver\")"
   ]
  },
  {
   "cell_type": "code",
   "execution_count": 4,
   "id": "8e362445",
   "metadata": {},
   "outputs": [],
   "source": [
    "#with open('file.csv', newline='') as f:\n",
    "#    reader = csv.reader(f)\n",
    "#    data = list(reader)\n",
    "\n",
    "data = read_csv(\"file3.csv\")\n",
    "lista_cnpj = data['cnpj'].tolist()"
   ]
  },
  {
   "cell_type": "code",
   "execution_count": 5,
   "id": "3b04dcd8",
   "metadata": {},
   "outputs": [],
   "source": [
    "#cookie = driver.find_element(\"xpath\", '//*[@id=\"__layout\"]/div/div[3]/cookie-consent/div/div[2]/button')\n",
    "#try:\n",
    "#    cookie.click()\n",
    "#except:\n",
    "#    pass"
   ]
  },
  {
   "cell_type": "code",
   "execution_count": 6,
   "id": "e5207c4a",
   "metadata": {},
   "outputs": [],
   "source": [
    "#procura = driver.find_element(\"xpath\", '/html/body/div/div[1]/div/div[2]/div[1]/div[2]/div/span/b/u')\n",
    "#print(procura.text)\n",
    "#procura = driver.find_element(\"xpath\", '/html/body/div/div[1]/div/div[2]/div[1]/div[5]/div/span/b/u')\n",
    "#print(procura.text)\n"
   ]
  },
  {
   "cell_type": "code",
   "execution_count": 7,
   "id": "55a222c1",
   "metadata": {},
   "outputs": [],
   "source": [
    "def busca(cnpj): \n",
    "    try:\n",
    "        cookie = driver.find_element(\"xpath\", '//*[@id=\"pwn\"]/div/div[2]/button[2]')      \n",
    "        cookie.click()\n",
    "    except:\n",
    "        pass\n",
    "    cnpj_temp = str(cnpj)\n",
    "    driver.get('https://cnpj.biz/'+cnpj_temp.zfill(14))\n",
    "    print(cnpj)\n",
    "    \n",
    "    try:\n",
    "        procura = driver.find_element(\"xpath\", '/html/body/div/div[1]/div/div[2]/div[1]/div[2]/div/span/b/u')\n",
    "        procura = procura.text\n",
    "        #print(procura.text)\n",
    "        try:\n",
    "            procura = driver.find_element(\"xpath\", '/html/body/div[1]/div[1]/div/div/div[1]/div[1]/div/span/b/u')\n",
    "            procura = procura.text\n",
    "            #print(procura.text)\n",
    "        except:\n",
    "            procura = driver.find_element(\"xpath\", '/html/body/div/div[1]/div/div[2]/div[1]/div[2]/div/span/b/u')\n",
    "            procura = procura.text\n",
    "            #print(procura.text)\n",
    "    except:\n",
    "        procura = driver.find_element(\"xpath\", '/html/body/div[1]/div[1]/div/div/div[1]/div[1]/div/span/b/u')\n",
    "        procura = procura.text\n",
    "        #print(procura.text)\n",
    "    \n",
    "    \n",
    "    #procura = driver.find_element(\"xpath\", '/html/body/div/div[1]/div/div[2]/div[1]/div[2]/div/span/b/u')\n",
    "    \n",
    "    #print(procura.text)\n",
    "    \n",
    "    try:\n",
    "        procura2 = driver.find_element(\"xpath\", '/html/body/div/div[1]/div/div/div[1]/div[4]/div/span/b/u')\n",
    "        procura2 = procura2.text\n",
    "        #print(procura.text)\n",
    "    except:\n",
    "       # print(\"-\")\n",
    "        procura2 = '-'\n",
    "        pass\n",
    "    \n",
    "    try:\n",
    "        porte = driver.find_element(\"xpath\", '/html/body/div[1]/div[1]/div/div[2]/div[1]/p[4]')\n",
    "        porte = porte.text\n",
    "        #print(procura.text)\n",
    "    except:\n",
    "       # print(\"-\")\n",
    "        porte = '-'\n",
    "        pass\n",
    "    \n",
    "    \n",
    "    \n",
    "    nat_juridica = driver.find_element(\"xpath\", '/html/body/div/div[1]/div/div/div[1]/p[6]')\n",
    "    #MEI = driver.find_element(\"xpath\", '/html/body/div/div[1]/div/div/div[1]/p[7]/b')\n",
    "    \n",
    "    try:\n",
    "        MEI = driver.find_element(\"xpath\", '/html/body/div/div[1]/div/div/div[1]/p[7]/b')\n",
    "        MEI = MEI.text\n",
    "        #print(procura.text)\n",
    "    except:\n",
    "       # print(\"-\")\n",
    "        MEI = '-'\n",
    "        pass\n",
    "\n",
    "    try:\n",
    "        simples = driver.find_element(\"xpath\", '/html/body/div/div[1]/div/div/div[1]/p[8]/b')\n",
    "        simples = simples.text\n",
    "        #print(procura.text)\n",
    "    except:\n",
    "       # print(\"-\")\n",
    "        simples = '-'\n",
    "        pass\n",
    "    #simples = driver.find_element(\"xpath\", '/html/body/div/div[1]/div/div/div[1]/p[8]/b')\n",
    "    \n",
    "    try:\n",
    "        cap_social = driver.find_element(\"xpath\", '/html/body/div/div[1]/div/div/div[1]/p[10]/span/b')\n",
    "        cap_social = cap_social.text\n",
    "        #print(procura.text)\n",
    "    except:\n",
    "       # print(\"-\")\n",
    "        cap_social = '-'\n",
    "        pass\n",
    "    \n",
    "    \n",
    "    \n",
    "    \n",
    "    with open('cnae_cnpj.csv', 'a') as file:\n",
    "        file.write(str(cnpj) + \";\" + str(procura) + \";\" + str(procura2) + \";\" + str(porte) + \";\" + str(nat_juridica.text)\n",
    "                   + \";\" + str(MEI) + \";\" + str(simples) + \";\" + str(cap_social) + \"\\n\")\n",
    "    time.sleep(2)"
   ]
  },
  {
   "cell_type": "code",
   "execution_count": 8,
   "id": "bec0c5c8",
   "metadata": {},
   "outputs": [],
   "source": [
    "#lista_cnpj = ['05318143000160', '09425243000146']"
   ]
  },
  {
   "cell_type": "code",
   "execution_count": null,
   "id": "2bb0f840",
   "metadata": {},
   "outputs": [
    {
     "name": "stdout",
     "output_type": "stream",
     "text": [
      "9043084000115\n",
      "2281790000156\n",
      "2797155000126\n",
      "7816049000166\n",
      "9136700000182\n",
      "10787855000168\n",
      "6926563000191\n",
      "1635854000107\n",
      "63229538000192\n"
     ]
    }
   ],
   "source": [
    "for i in range(len(lista_cnpj)):\n",
    "    busca(lista_cnpj[i])"
   ]
  },
  {
   "cell_type": "code",
   "execution_count": null,
   "id": "e5ece652",
   "metadata": {},
   "outputs": [],
   "source": [
    "print(lista_cnpj)"
   ]
  },
  {
   "cell_type": "code",
   "execution_count": null,
   "id": "62142706",
   "metadata": {},
   "outputs": [],
   "source": [
    "print(data)"
   ]
  },
  {
   "cell_type": "code",
   "execution_count": null,
   "id": "f4db79d3",
   "metadata": {},
   "outputs": [],
   "source": []
  }
 ],
 "metadata": {
  "kernelspec": {
   "display_name": "Python 3 (ipykernel)",
   "language": "python",
   "name": "python3"
  },
  "language_info": {
   "codemirror_mode": {
    "name": "ipython",
    "version": 3
   },
   "file_extension": ".py",
   "mimetype": "text/x-python",
   "name": "python",
   "nbconvert_exporter": "python",
   "pygments_lexer": "ipython3",
   "version": "3.9.13"
  }
 },
 "nbformat": 4,
 "nbformat_minor": 5
}
